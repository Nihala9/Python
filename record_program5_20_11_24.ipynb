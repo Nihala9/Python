{
 "cells": [
  {
   "cell_type": "code",
   "execution_count": 2,
   "metadata": {},
   "outputs": [
    {
     "name": "stdout",
     "output_type": "stream",
     "text": [
      "Enter 1st number:36\n",
      "Enter 2nd number:60\n",
      "GCD of 36 and 60 is: 12\n"
     ]
    }
   ],
   "source": [
    "#gcd\n",
    "import math\n",
    "n1 = int(input(\"Enter 1st number:\"))\n",
    "n2 = int(input(\"Enter 2nd number:\"))\n",
    "\n",
    "gcd = math.gcd(n1,n2)\n",
    "\n",
    "print(f\"GCD of {n1} and {n2} is: {gcd}\")\n"
   ]
  },
  {
   "cell_type": "code",
   "execution_count": 1,
   "metadata": {},
   "outputs": [
    {
     "name": "stdout",
     "output_type": "stream",
     "text": [
      "Enter numbers separated by spaces: 1 2 3 4 5 6 7 8 9 10\n",
      "List with even numbers removed: [1, 3, 5, 7, 9]\n"
     ]
    }
   ],
   "source": [
    "#remove even no.\n",
    "user_input = input(\"Enter numbers separated by spaces: \")\n",
    "\n",
    "nums = list(map(int, user_input.split()))\n",
    "\n",
    "odd_num = [num for num in nums if num % 2 != 0]\n",
    "\n",
    "print(\"List with even numbers removed:\",odd_num)\n"
   ]
  },
  {
   "cell_type": "code",
   "execution_count": 2,
   "metadata": {},
   "outputs": [
    {
     "name": "stdout",
     "output_type": "stream",
     "text": [
      "Enter numbers separated by spaces: 1 2 3 4 5\n",
      "Sum of all items in the list: 15\n"
     ]
    }
   ],
   "source": [
    "#sum of items\n",
    "user_input = input(\"Enter numbers separated by spaces: \")\n",
    "\n",
    "nums = list(map(int, user_input.split()))\n",
    "\n",
    "total_sum = sum(nums)\n",
    "\n",
    "print(\"Sum of all items in the list:\",total_sum)\n"
   ]
  },
  {
   "cell_type": "code",
   "execution_count": 5,
   "metadata": {},
   "outputs": [
    {
     "name": "stdout",
     "output_type": "stream",
     "text": [
      "Enter the starting number of the range: 1000\n",
      "Enter the ending number of the range: 10000\n",
      "Perfect squares with all even digits in the range 1000-10000: [4624, 6084, 6400, 8464]\n"
     ]
    }
   ],
   "source": [
    "#generate list of 4-digit no. that all digits are even & no. is a perfect sq\n",
    "import math\n",
    "\n",
    "start = int(input(\"Enter the starting number of the range: \"))\n",
    "end = int(input(\"Enter the ending number of the range: \"))\n",
    "\n",
    "result = []\n",
    "\n",
    "for num in range(start, end + 1):\n",
    "    if all(int(digit) % 2 == 0 for digit in str(num)) and int(math.sqrt(num)) ** 2 == num:\n",
    "        result.append(num)\n",
    "\n",
    "print(f\"Perfect squares with all even digits in the range {start}-{end}:\", result)"
   ]
  },
  {
   "cell_type": "code",
   "execution_count": 4,
   "metadata": {},
   "outputs": [
    {
     "name": "stdout",
     "output_type": "stream",
     "text": [
      "Enter a string:hello miss\n",
      "Character frequency: {'e': 1, 'l': 2, 'o': 1, 'm': 1, ' ': 1, 'h': 1, 'i': 1, 's': 2}\n"
     ]
    }
   ],
   "source": [
    "#char frequency\n",
    "text = input(\"Enter a string:\")\n",
    "\n",
    "char_fqy = {char: text.count(char)for char in set(text)}\n",
    "\n",
    "print(\"Character frequency:\",char_fqy)\n"
   ]
  },
  {
   "cell_type": "code",
   "execution_count": 10,
   "metadata": {},
   "outputs": [
    {
     "name": "stdout",
     "output_type": "stream",
     "text": [
      "Enter a string:playing\n",
      "Modified string: playingly\n"
     ]
    }
   ],
   "source": [
    "#add 'ing' if already ing adds 'ly'\n",
    "text = input(\"Enter a string:\")\n",
    "\n",
    "if text.endswith(\"ing\"):\n",
    "    text += \"ly\"\n",
    "else:\n",
    "    text += \"ing\"\n",
    "    \n",
    "print(\"Modified string:\",text)\n"
   ]
  },
  {
   "cell_type": "code",
   "execution_count": null,
   "metadata": {},
   "outputs": [],
   "source": []
  }
 ],
 "metadata": {
  "kernelspec": {
   "display_name": "Python 3",
   "language": "python",
   "name": "python3"
  },
  "language_info": {
   "codemirror_mode": {
    "name": "ipython",
    "version": 3
   },
   "file_extension": ".py",
   "mimetype": "text/x-python",
   "name": "python",
   "nbconvert_exporter": "python",
   "pygments_lexer": "ipython3",
   "version": "3.7.3"
  }
 },
 "nbformat": 4,
 "nbformat_minor": 2
}
