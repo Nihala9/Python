
{
 "cells": [
  {
   "cell_type": "code",
   "execution_count": 3,
   "metadata": {},
   "outputs": [
    {
     "name": "stdout",
     "output_type": "stream",
     "text": [
      "Enter the source file: files.txt\n",
      "Lines in the file:  3\n"
     ]
    }
   ],
   "source": [
    "#read a file line by line and store it into a list\n",
    "l=[]\n",
    "file1=input(\"Enter the source file: \")\n",
    "f=open(file1,\"r\")\n",
    "for line in f.readlines():\n",
    "    l.append(line)\n",
    "print(\"Lines in the file: \",len(l))"
   ]
  },
  {
   "cell_type": "code",
   "execution_count": 6,
   "metadata": {},
   "outputs": [
    {
     "name": "stdout",
     "output_type": "stream",
     "text": [
      "Enter the source file: src.txt\n",
      "Enter destination file: dest.txt\n",
      "Line 1:This is the first line.\n",
      "Line 3:This is the third line.\n",
      "Line 5:This is the fifth line.\n",
      "\n"
     ]
    }
   ],
   "source": [
    "#copy odd lines of one file to other \n",
    "file1=input(\"Enter the source file: \")\n",
    "file2=input(\"Enter destination file: \")\n",
    "f1=open(file1,\"r\")\n",
    "f2=open(file2,\"w\")\n",
    "i=0\n",
    "for line in f1.readlines():\n",
    "    i=i+1\n",
    "    if i%2==0:\n",
    "        continue\n",
    "    f2.write(line)\n",
    "f1.close()\n",
    "f2.close()\n",
    "f1=open(file2,\"r\")\n",
    "print(f1.read())"
   ]
  },
  {
   "cell_type": "code",
   "execution_count": 7,
   "metadata": {},
   "outputs": [
    {
     "name": "stdout",
     "output_type": "stream",
     "text": [
      "Enter csv file name: example.csv\n",
      "['Name', 'Age', 'City']\n",
      "['Nihala', '20', 'New York']\n",
      "['Hiba', '21', 'Los Angeles']\n",
      "['Mina', '22', 'Chicago']\n"
     ]
    }
   ],
   "source": [
    "#read each row from a given csv file and print a list of strings. \n",
    "import csv\n",
    "fname=input(\"Enter csv file name: \")\n",
    "f1=open(fname,\"r\")\n",
    "reader=csv.reader(f1)\n",
    "for row in reader:\n",
    "    print(row)\n",
    "f1.close()"
   ]
  },
  {
   "cell_type": "code",
   "execution_count": 10,
   "metadata": {},
   "outputs": [
    {
     "name": "stdout",
     "output_type": "stream",
     "text": [
      "Enter CSV file name: example.csv\n",
      "Enter the column indices: 1\n",
      "['Age']\n",
      "['20']\n",
      "['21']\n",
      "['22']\n"
     ]
    }
   ],
   "source": [
    "#read specific columns of a given CSV file\n",
    "import csv\n",
    "\n",
    "fname = input(\"Enter CSV file name: \")\n",
    "col_input = input(\"Enter the column indices: \")\n",
    "col_to_read = [int(index) for index in col_input.split(',')]\n",
    "\n",
    "f1 = open(fname, \"r\")\n",
    "reader = csv.reader(f1)\n",
    "\n",
    "for row in reader:\n",
    "     sel_col = [row[i] for i in col_to_read if i < len(row)]\n",
    "     print(sel_col)"
   ]
  },
  {
   "cell_type": "code",
   "execution_count": 15,
   "metadata": {},
   "outputs": [
    {
     "name": "stdout",
     "output_type": "stream",
     "text": [
      "Enter new filename with extension (e.g., departments.csv): departments.csv\n",
      "Enter the number of departments: 2\n",
      "Enter comma-separated deptid, deptname, TE, location: 1,HR,20,New York\n",
      "Enter comma-separated deptid, deptname, TE, location: 2,Finance,15,Los Angeles\n",
      "\n",
      "DepartmentID\tDepartmentName\n",
      "1 \t\t HR\n",
      "2 \t\t Finance\n"
     ]
    }
   ],
   "source": [
    "#write a Python dictionary to a csv file.\n",
    "import csv \n",
    "\n",
    "file1 = input(\"Enter new filename with extension (e.g., departments.csv): \")\n",
    "\n",
    "with open(file1, \"a+\", newline='') as f1: \n",
    "    empdata = [\"deptid\", \"deptname\", \"TE\", \"location\"] \n",
    "    writer = csv.DictWriter(f1, fieldnames=empdata) \n",
    "    \n",
    "    if f1.tell() == 0: \n",
    "        writer.writeheader() \n",
    "        \n",
    "    n = int(input(\"Enter the number of departments: \")) \n",
    "    \n",
    "    for i in range(n):\n",
    "        l = list(input(\"Enter comma-separated deptid, deptname, TE, location: \").split(\",\")) \n",
    "        writer.writerow({'deptid': l[0], 'deptname': l[1], 'TE': l[2], 'location': l[3]}) \n",
    "        \n",
    "print(\"\\nDepartmentID\\tDepartmentName\") \n",
    "with open(file1, 'r') as f2: \n",
    "    rdr = csv.DictReader(f2) \n",
    "    for item in rdr: \n",
    "        print(item['deptid'], \"\\t\\t\", item['deptname'])"
   ]
  },
  {
   "cell_type": "code",
   "execution_count": null,
   "metadata": {},
   "outputs": [],
   "source": []
  }
 ],
 "metadata": {
  "kernelspec": {
   "display_name": "Python 3",
   "language": "python",
   "name": "python3"
  },
  "language_info": {
   "codemirror_mode": {
    "name": "ipython",
    "version": 3
   },
   "file_extension": ".py",
   "mimetype": "text/x-python",
   "name": "python",
   "nbconvert_exporter": "python",
   "pygments_lexer": "ipython3",
   "version": "3.7.3"
  }
 },
 "nbformat": 4,
 "nbformat_minor": 2
}
