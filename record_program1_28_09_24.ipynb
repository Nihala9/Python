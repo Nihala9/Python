{
 "cells": [
  {
   "cell_type": "code",
   "execution_count": 1,
   "metadata": {},
   "outputs": [
    {
     "name": "stdout",
     "output_type": "stream",
     "text": [
      "Enter an integer:5\n",
      "5 + 55 + 555 + 615\n"
     ]
    }
   ],
   "source": [
    "#compute n+nn+nnn\n",
    "n = input(\"Enter an integer:\")\n",
    "n1 = int(n)\n",
    "n2 = int(n * 2)\n",
    "n3 = int(n * 3)\n",
    "result = n1 + n2 + n3\n",
    "print(f\"{n1} + {n2} + {n3} + {result}\")\n"
   ]
  },
  {
   "cell_type": "code",
   "execution_count": 2,
   "metadata": {},
   "outputs": [
    {
     "name": "stdout",
     "output_type": "stream",
     "text": [
      "Enter the radius of the circle:5\n",
      "The area of circle is 78.54\n"
     ]
    }
   ],
   "source": [
    "#area of circle\n",
    "import math\n",
    "radius = float(input(\"Enter the radius of the circle:\"))\n",
    "area = math.pi * radius ** 2\n",
    "print(f\"The area of circle is {area:.2f}\")\n"
   ]
  },
  {
   "cell_type": "code",
   "execution_count": 3,
   "metadata": {},
   "outputs": [
    {
     "name": "stdout",
     "output_type": "stream",
     "text": [
      "Enter the first number: 10\n",
      "Enter the second number: 30\n",
      "Enter the third number: 25\n",
      "The largest number is: 30.0\n"
     ]
    }
   ],
   "source": [
    "#largest of 3 numbers\n",
    "num1 = float(input(\"Enter the first number: \"))\n",
    "num2 = float(input(\"Enter the second number: \"))\n",
    "num3 = float(input(\"Enter the third number: \"))\n",
    "largest = max(num1, num2, num3)\n",
    "print(f\"The largest number is: {largest}\")\n"
   ]
  },
  {
   "cell_type": "code",
   "execution_count": null,
   "metadata": {},
   "outputs": [],
   "source": []
  }
 ],
 "metadata": {
  "kernelspec": {
   "display_name": "Python 3",
   "language": "python",
   "name": "python3"
  },
  "language_info": {
   "codemirror_mode": {
    "name": "ipython",
    "version": 3
   },
   "file_extension": ".py",
   "mimetype": "text/x-python",
   "name": "python",
   "nbconvert_exporter": "python",
   "pygments_lexer": "ipython3",
   "version": "3.7.3"
  }
 },
 "nbformat": 4,
 "nbformat_minor": 2
}
