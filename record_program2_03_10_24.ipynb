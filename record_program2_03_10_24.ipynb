{
 "cells": [
  {
   "cell_type": "code",
   "execution_count": 1,
   "metadata": {},
   "outputs": [
    {
     "name": "stdout",
     "output_type": "stream",
     "text": [
      "Enter the temperature in Celsius: 25\n",
      "25.0°C is equal to 77.0°F\n"
     ]
    }
   ],
   "source": [
    "#covert celsius to fahrenheit\n",
    "c = float(input(\"Enter the temperature in Celsius: \"))\n",
    "f = (c * 9/5) + 32\n",
    "print(f\"{c}°C is equal to {f}°F\")"
   ]
  },
  {
   "cell_type": "code",
   "execution_count": 1,
   "metadata": {},
   "outputs": [
    {
     "name": "stdout",
     "output_type": "stream",
     "text": [
      "Enter the distance in kilometers: 10\n",
      "10.0 kilometers is equal to 6.21 miles\n"
     ]
    }
   ],
   "source": [
    "#convert km to miles\n",
    "km = float(input(\"Enter the distance in kilometers: \"))\n",
    "m = km * 0.62137\n",
    "print(f\"{km} kilometers is equal to {m:.2f} miles\")\n"
   ]
  },
  {
   "cell_type": "code",
   "execution_count": 7,
   "metadata": {},
   "outputs": [
    {
     "name": "stdout",
     "output_type": "stream",
     "text": [
      "Enter the price of first product: $120\n",
      "Enter the price of second product: $80\n",
      "Enter the price of third product: $30\n",
      "Total price before discount: $230.00\n",
      "Final price after 15% discount: $195.50\n",
      "Average price of the product: $76.67\n",
      "Is the first product more expensive than the final price? No\n",
      "Is the second product more expensive than the final price? No\n",
      "Is the third product more expensive than the final price? No\n",
      "Does the final price fall within the range of $50 to $200? Yes\n"
     ]
    }
   ],
   "source": [
    "price1 = float(input(\"Enter the price of first product: $\"))\n",
    "price2 = float(input(\"Enter the price of second product: $\"))\n",
    "price3 = float(input(\"Enter the price of third product: $\"))\n",
    "\n",
    "total_p = price1 + price2 + price3\n",
    "print(f\"Total price before discount: ${total_p:.2f}\")\n",
    "\n",
    "discount = 0.15\n",
    "final_p = total_p * (1 - discount)\n",
    "print(f\"Final price after 15% discount: ${final_p:.2f}\")\n",
    "\n",
    "avg_p = total_p / 3\n",
    "print(f\"Average price of the product: ${avg_p:.2f}\")\n",
    "\n",
    "is_price1_higher = price1 > final_p\n",
    "is_price2_higher = price2 > final_p\n",
    "is_price3_higher = price3 > final_p\n",
    "\n",
    "print(f\"Is the first product more expensive than the final price? {'Yes' if is_price1_higher else 'No'}\")\n",
    "print(f\"Is the second product more expensive than the final price? {'Yes' if is_price2_higher else 'No'}\")\n",
    "print(f\"Is the third product more expensive than the final price? {'Yes' if is_price3_higher else 'No'}\")\n",
    "      \n",
    "is_in_range = 50 <= final_p <= 200\n",
    "print(f\"Does the final price fall within the range of $50 to $200? {'Yes' if is_in_range else 'No'}\")\n",
    "      "
   ]
  },
  {
   "cell_type": "code",
   "execution_count": null,
   "metadata": {},
   "outputs": [],
   "source": []
  }
 ],
 "metadata": {
  "kernelspec": {
   "display_name": "Python 3",
   "language": "python",
   "name": "python3"
  },
  "language_info": {
   "codemirror_mode": {
    "name": "ipython",
    "version": 3
   },
   "file_extension": ".py",
   "mimetype": "text/x-python",
   "name": "python",
   "nbconvert_exporter": "python",
   "pygments_lexer": "ipython3",
   "version": "3.7.3"
  }
 },
 "nbformat": 4,
 "nbformat_minor": 2
}
