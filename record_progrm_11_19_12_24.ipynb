
{
 "cells": [
  {
   "cell_type": "code",
   "execution_count": 1,
   "metadata": {},
   "outputs": [
    {
     "name": "stdout",
     "output_type": "stream",
     "text": [
      "Enter email addresses separated by commas: nihala@gmail.com, invalid@.com, user.org\n",
      "Enter phone numbers separated by commas: +91 9778758456, 12344567, 9539323911\n",
      "\n",
      "Valid Emails: ['nihala@gmail.com']\n",
      "Valid Phone Numbers: ['9539323911']\n"
     ]
    }
   ],
   "source": [
    "#validate email address and phone no. in regex\n",
    "import re\n",
    "\n",
    "def validate_inputs():\n",
    "    emails = input(\"Enter email addresses separated by commas: \").split(',') \n",
    "    phones = input(\"Enter phone numbers separated by commas: \").split(',') \n",
    "    \n",
    "    email_pattern = r'^[a-zA-Z0-9._%+-]+@[a-zA-Z0-9.-]+\\.[a-zA-Z]{2,}$' \n",
    "    phone_pattern = r'^\\+?\\d{10,15}$' \n",
    "    \n",
    "    valid_emails = [email.strip() for email in emails if re.match(email_pattern, email.strip())] \n",
    "    valid_phones = [phone.strip() for phone in phones if re.match(phone_pattern, phone.strip())] \n",
    "    \n",
    "    print(\"\\nValid Emails:\", valid_emails) \n",
    "    print(\"Valid Phone Numbers:\", valid_phones) \n",
    "    \n",
    "validate_inputs()\n"
   ]
  },
  {
   "cell_type": "code",
   "execution_count": null,
   "metadata": {},
   "outputs": [],
   "source": []
  }
 ],
 "metadata": {
  "kernelspec": {
   "display_name": "Python 3",
   "language": "python",
   "name": "python3"
  },
  "language_info": {
   "codemirror_mode": {
    "name": "ipython",
    "version": 3
   },
   "file_extension": ".py",
   "mimetype": "text/x-python",
   "name": "python",
   "nbconvert_exporter": "python",
   "pygments_lexer": "ipython3",
   "version": "3.7.3"
  }
 },
 "nbformat": 4,
 "nbformat_minor": 2
}
