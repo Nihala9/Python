{
 "cells": [
  {
   "cell_type": "code",
   "execution_count": 9,
   "metadata": {},
   "outputs": [
    {
     "name": "stdout",
     "output_type": "stream",
     "text": [
      "Enter the numerator:10\n",
      "Enter the denominator:2\n",
      "Result of the division is:5.0\n"
     ]
    }
   ],
   "source": [
    "#division error\n",
    "def divide():\n",
    "    try:\n",
    "        num = float(input(\"Enter the numerator:\"))\n",
    "        denom = float(input(\"Enter the denominator:\"))\n",
    "        result = num / denom\n",
    "    except ZeroDivisionError:\n",
    "        print(\"Error:Division by zero is not allowed\")\n",
    "    except ValueError:\n",
    "        print(\"Error:Invalid input.Plz enter numeric values\")\n",
    "    else:\n",
    "        print(f\"Result of the division is:{result}\")\n",
    "divide()      \n"
   ]
  },
  {
   "cell_type": "code",
   "execution_count": null,
   "metadata": {},
   "outputs": [],
   "source": []
  },
  {
   "cell_type": "code",
   "execution_count": null,
   "metadata": {},
   "outputs": [],
   "source": []
  }
 ],
 "metadata": {
  "kernelspec": {
   "display_name": "Python 3",
   "language": "python",
   "name": "python3"
  },
  "language_info": {
   "codemirror_mode": {
    "name": "ipython",
    "version": 3
   },
   "file_extension": ".py",
   "mimetype": "text/x-python",
   "name": "python",
   "nbconvert_exporter": "python",
   "pygments_lexer": "ipython3",
   "version": "3.7.3"
  }
 },
 "nbformat": 4,
 "nbformat_minor": 2
}
