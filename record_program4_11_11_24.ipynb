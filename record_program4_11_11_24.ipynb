{
 "cells": [
  {
   "cell_type": "code",
   "execution_count": 6,
   "metadata": {},
   "outputs": [
    {
     "name": "stdout",
     "output_type": "stream",
     "text": [
      "Enter a line of text: hello hello python miss\n",
      "The occurences of word miss is  1\n",
      "The occurences of word python is  1\n",
      "The occurences of word hello is  2\n"
     ]
    }
   ],
   "source": [
    "#count occurrences of each word\n",
    "text = input(\"Enter a line of text: \").lower().split()\n",
    "\n",
    "for word in set(text):\n",
    "    print(f\"The occurences of word {word} is \",text.count(word))\n"
   ]
  },
  {
   "cell_type": "code",
   "execution_count": 1,
   "metadata": {},
   "outputs": [
    {
     "name": "stdout",
     "output_type": "stream",
     "text": [
      "Enter a list of integers separated by comma: 50,120,85,200,99\n",
      "Processed list: [50, 'over', 85, 'over', 99]\n"
     ]
    }
   ],
   "source": [
    "#process the list and replace values greater than 100\n",
    "number = input(\"Enter a list of integers separated by comma: \").split(\",\")\n",
    "\n",
    "result = [int(num) if int(num) <=100 else 'over' for num in number]\n",
    "\n",
    "print(\"Processed list:\",result)\n"
   ]
  },
  {
   "cell_type": "code",
   "execution_count": 2,
   "metadata": {},
   "outputs": [
    {
     "name": "stdout",
     "output_type": "stream",
     "text": [
      "Enter first names separated by comma: Nihala,Shafnas,Nisha\n",
      "The letter 'a' appears 5 times in the list\n"
     ]
    }
   ],
   "source": [
    "#count occurrences of 'a' in the list of names\n",
    "names = input(\"Enter first names separated by comma: \").split(\",\")\n",
    "\n",
    "a_count = sum(name.lower().count('a')for name in names)\n",
    "\n",
    "print(f\"The letter 'a' appears {a_count} times in the list\")\n"
   ]
  },
  {
   "cell_type": "code",
   "execution_count": 4,
   "metadata": {},
   "outputs": [
    {
     "name": "stdout",
     "output_type": "stream",
     "text": [
      "Enter integers for the first list separated by comma:1,2,3,4\n",
      "Enter integers for the second list separated by comma:3,4,5,6\n",
      "(a) Lists are of same length: True\n",
      "(b) Lists sum to same value: False\n",
      "(c) Lists have common value: True\n",
      "Common values are: {3, 4}\n"
     ]
    }
   ],
   "source": [
    "#2 lists of integers\n",
    "l1 = list(map(int, input(\"Enter integers for the first list separated by comma:\").split(\",\")))\n",
    "l2 = list(map(int, input(\"Enter integers for the second list separated by comma:\").split(\",\")))\n",
    "\n",
    "same_len = len(l1) == len(l2)\n",
    "print(f\"(a) Lists are of same length: {same_len}\")\n",
    "\n",
    "same_sum = sum(l1) == sum(l2)\n",
    "print(f\"(b) Lists sum to same value: {same_sum}\")\n",
    "\n",
    "cmn_value = set(l1).intersection(set(l2))\n",
    "has_cmn = bool(cmn_value)\n",
    "print(f\"(c) Lists have common value: {has_cmn}\")\n",
    "\n",
    "if has_cmn:\n",
    "    print(f\"Common values are: {cmn_value}\")\n",
    "          "
   ]
  },
  {
   "cell_type": "code",
   "execution_count": 7,
   "metadata": {},
   "outputs": [
    {
     "name": "stdout",
     "output_type": "stream",
     "text": [
      "Enter a list of numbers separated by commas: -10,15,-3,20,-5,30\n",
      "(a)Positive numbers: [15, 20, 30]\n",
      "Enter a number N to get the squares from 1 to N: 5\n",
      "(b) Squares: [1, 4, 9, 16, 25]\n",
      "Enter a word to find vowels: hello world\n",
      "(c) Vowels in the word: ['e', 'o', 'o']\n",
      "Enter a word to get the ordinal values of characters: hello\n",
      "(d) Ordinal values: [104, 101, 108, 108, 111]\n"
     ]
    }
   ],
   "source": [
    "#list comprehension\n",
    "# (a) Positive Numbers\n",
    "nums = list(map(int, input(\"Enter a list of numbers separated by commas: \").split(',')))\n",
    "\n",
    "p_num = [num for num in nums if num>0]\n",
    "\n",
    "print(\"(a)Positive numbers:\",p_num)\n",
    "\n",
    "#(b) Squares of numbers from 1 to N\n",
    "N = int(input(\"Enter a number N to get the squares from 1 to N: \"))\n",
    "\n",
    "sq = [num**2 for num in range(1,N+1)]\n",
    "\n",
    "print(\"(b) Squares:\",sq)\n",
    "\n",
    "# (c) Vowels in the word\n",
    "word = input(\"Enter a word to find vowels: \")\n",
    "\n",
    "vowel = [char for char in word if char in 'aeiou']\n",
    "\n",
    "print(\"(c) Vowels in the word:\",vowel)\n",
    "\n",
    "#(d) Ordinal values of characters in the word\n",
    "word = input(\"Enter a word to get the ordinal values of characters: \")\n",
    "\n",
    "ordinal_value = [ord(char) for char in word]\n",
    "\n",
    "print(\"(d) Ordinal values:\",ordinal_value)\n"
   ]
  },
  {
   "cell_type": "code",
   "execution_count": null,
   "metadata": {},
   "outputs": [],
   "source": []
  }
 ],
 "metadata": {
  "kernelspec": {
   "display_name": "Python 3",
   "language": "python",
   "name": "python3"
  },
  "language_info": {
   "codemirror_mode": {
    "name": "ipython",
    "version": 3
   },
   "file_extension": ".py",
   "mimetype": "text/x-python",
   "name": "python",
   "nbconvert_exporter": "python",
   "pygments_lexer": "ipython3",
   "version": "3.7.3"
  }
 },
 "nbformat": 4,
 "nbformat_minor": 2
}
