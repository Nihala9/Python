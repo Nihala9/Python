
{
 "cells": [
  {
   "cell_type": "code",
   "execution_count": 1,
   "metadata": {},
   "outputs": [
    {
     "name": "stdout",
     "output_type": "stream",
     "text": [
      "Enter the length of one side of the square:5\n",
      "The area of square is 25.0\n"
     ]
    }
   ],
   "source": [
    "side = float(input(\"Enter the length of one side of the square:\"))\n",
    "area = side * side\n",
    "print(f\"The area of square is {area}\")"
   ]
  },
  {
   "cell_type": "code",
   "execution_count": 2,
   "metadata": {},
   "outputs": [
    {
     "name": "stdout",
     "output_type": "stream",
     "text": [
      "Enter the base of the triangle:6\n",
      "Enter the height of the triangle:8\n",
      "Area of right angled triangle is 24.0\n"
     ]
    }
   ],
   "source": [
    "base = float(input(\"Enter the base of the triangle:\"))\n",
    "height = float(input(\"Enter the height of the triangle:\"))\n",
    "area = 0.5 * base * height\n",
    "print(f\"Area of right angled triangle is {area}\")"
   ]
  },
  {
   "cell_type": "code",
   "execution_count": 4,
   "metadata": {},
   "outputs": [
    {
     "name": "stdout",
     "output_type": "stream",
     "text": [
      "Enter your name:Nihala\n",
      "Hello,Nihala!\n"
     ]
    }
   ],
   "source": [
    "name = input(\"Enter your name:\")\n",
    "print(f\"Hello,{name}!\")"
   ]
  },
  {
   "cell_type": "code",
   "execution_count": 5,
   "metadata": {},
   "outputs": [
    {
     "name": "stdout",
     "output_type": "stream",
     "text": [
      "Enter an integer:10\n",
      "previous number is: 9\n",
      "next number is: 11\n"
     ]
    }
   ],
   "source": [
    "num = int(input(\"Enter an integer:\"))\n",
    "previous = num - 1\n",
    "next = num + 1\n",
    "print(f\"previous number is: {previous}\")\n",
    "print(f\"next number is: {next}\")"
   ]
  },
  {
   "cell_type": "code",
   "execution_count": 6,
   "metadata": {},
   "outputs": [
    {
     "name": "stdout",
     "output_type": "stream",
     "text": [
      "Enter the principal amount:1000\n",
      "Enter the rate of interest:5\n",
      "Enter the time period in years:2\n",
      "Simple Interest is: 100.0\n"
     ]
    }
   ],
   "source": [
    "P = float(input(\"Enter the principal amount:\"))\n",
    "R = float(input(\"Enter the rate of interest:\"))\n",
    "T = float(input(\"Enter the time period in years:\"))\n",
    "SI = (P * R * T)/100\n",
    "print(f\"Simple Interest is: {SI}\")"
   ]
  },
  {
   "cell_type": "code",
   "execution_count": null,
   "metadata": {},
   "outputs": [],
   "source": []
  }
 ],
 "metadata": {
  "kernelspec": {
   "display_name": "Python 3",
   "language": "python",
   "name": "python3"
  },
  "language_info": {
   "codemirror_mode": {
    "name": "ipython",
    "version": 3
   },
   "file_extension": ".py",
   "mimetype": "text/x-python",
   "name": "python",
   "nbconvert_exporter": "python",
   "pygments_lexer": "ipython3",
   "version": "3.7.3"
  }
 },
 "nbformat": 4,
 "nbformat_minor": 2
}
