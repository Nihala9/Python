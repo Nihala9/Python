{
 "cells": [
  {
   "cell_type": "code",
   "execution_count": 5,
   "metadata": {},
   "outputs": [
    {
     "name": "stdout",
     "output_type": "stream",
     "text": [
      "Enter a string: apple\n",
      "New string is: eppla\n"
     ]
    }
   ],
   "source": [
    "#swap first & last characters of a string\n",
    "s = input(\"Enter a string: \")\n",
    "\n",
    "if len(s) < 2:\n",
    "    print(\"The string is too short to swap characters\")\n",
    "\n",
    "ns = s[-1] + s[1:-1] + s[0]\n",
    "\n",
    "print(f\"New string is: {ns}\")\n"
   ]
  },
  {
   "cell_type": "code",
   "execution_count": 6,
   "metadata": {},
   "outputs": [
    {
     "name": "stdout",
     "output_type": "stream",
     "text": [
      "Enter the first string: ice\n",
      "Enter the second string: cream\n",
      "New combined string is: cre iceam\n"
     ]
    }
   ],
   "source": [
    "#combine 2 strings & swap their 1st 2 characters\n",
    "s1 = input(\"Enter the first string: \")\n",
    "s2 = input(\"Enter the second string: \")\n",
    "\n",
    "if len(s1) < 2 or len(s2) < 2:\n",
    "    print(\"Both strings need to have at least 2 characters\")\n",
    "    \n",
    "ns1 = s2[:2] + s1[2:]\n",
    "ns2 = s1[:2] + s2[2:]\n",
    "\n",
    "cs = ns1 + \" \" + ns2\n",
    "\n",
    "print(f\"New combined string is: {cs}\")\n"
   ]
  },
  {
   "cell_type": "code",
   "execution_count": 7,
   "metadata": {},
   "outputs": [
    {
     "name": "stdout",
     "output_type": "stream",
     "text": [
      "Enter a string: bubble\n",
      "Modified string is: bu$$le\n"
     ]
    }
   ],
   "source": [
    "#replace occurence of 1st char with $, except the 1st one\n",
    "s = input(\"Enter a string: \")\n",
    "if len(s) == 0:\n",
    "    print(\"Empty string provided\")\n",
    "    \n",
    "fchar = s[0]\n",
    "\n",
    "ns = fchar + s[1:].replace(fchar,'$')\n",
    "\n",
    "print(f\"Modified string is: {ns}\")\n"
   ]
  },
  {
   "cell_type": "code",
   "execution_count": 1,
   "metadata": {},
   "outputs": [
    {
     "name": "stdout",
     "output_type": "stream",
     "text": [
      "Enter colors separated by commas: red,blue,yellow,green\n",
      "First color is: red\n",
      "Last color is: green\n"
     ]
    }
   ],
   "source": [
    "#display 1st & last color from a list\n",
    "colors = input(\"Enter colors separated by commas: \")\n",
    "clist = [color for color in colors.split(\",\") if color]\n",
    "\n",
    "if clist:\n",
    "    print(f\"First color is: {clist[0]}\")\n",The
    "    print(f\"Last color is: {clist[-1]}\")\n",
    "else:\n",
    "    print(\"No colors were entered\")\n"
   ]
  },
  {
   "cell_type": "code",
   "execution_count": 6,
   "metadata": {},
   "outputs": [
    {
     "name": "stdout",
     "output_type": "stream",
     "text": [
      "Enter the filename: python.txt\n",
      "File extension is txt\n"
     ]
    }
   ],
   "source": [
    "#get the file extension from a filename\n",
    "fname = input(\"Enter the filename: \")\n",
    "\n",
    "parts = fname.split(\".\")\n",
    "\n",
    "if len(parts)>1:\n",
    "    extension = parts[-1]\n",
    "    print(f\"File extension is {extension}\")\n",
    "else:\n",
    "    print(\"Filename does not have an extension\")\n",
    "    "
   ]
  },
  {
   "cell_type": "code",
   "execution_count": 8,
   "metadata": {},
   "outputs": [
    {
     "name": "stdout",
     "output_type": "stream",
     "text": [
      "Enter numbers separated by commas: 10,20,30,40\n",
      "3rd element is: 30\n",
      "3rd element from the last is: 20\n"
     ]
    }
   ],
   "source": [
    "#get 3rd element & 3rd element from last of a tuple\n",
    "t = input(\"Enter numbers separated by commas: \")\n",
    "st = tuple(int(num) for num in t.split(\",\") if num)\n",
    "\n",
    "if len(st) < 3:\n",
    "    print(\"Tuple must have at least 3 elements\")\n",
    "else:\n",
    "    third_element = st[2]\n",
    "    third_from_last = st[-3]\n",
    "\n",
    "    print(f\"3rd element is: {third_element}\")\n",
    "    print(f\"3rd element from the last is: {third_from_last}\")\n"
   ]
  },
  {
   "cell_type": "code",
   "execution_count": 17,
   "metadata": {},
   "outputs": [
    {
     "name": "stdout",
     "output_type": "stream",
     "text": [
      "Enter colors for set 1 separated by commas: red,blue,green\n",
      "Enter colors for set 2 separated by commas: blue,green,yellow\n",
      "Colors in color_set1 that are not in color_set2:\n",
      "red\n"
     ]
    }
   ],
   "source": [
    "#print colors from set1 not in set2\n",
    "s1 = input(\"Enter colors for set 1 separated by commas: \")\n",
    "s2 = input(\"Enter colors for set 2 separated by commas: \")\n",
    "\n",
    "cs1 = set(s1.split(\",\"))\n",
    "cs2 = set(s2.split(\",\"))\n",
    "\n",
    "uc = cs1.difference(cs2)\n",
    "\n",
    "print(\"Colors in color_set1 that are not in color_set2:\")\n",
    "for color in uc:\n",
    "    print(color)\n",
    "    "
   ]
  },
  {
   "cell_type": "code",
   "execution_count": 1,
   "metadata": {},
   "outputs": [
    {
     "name": "stdout",
     "output_type": "stream",
     "text": [
      "Enter 3 roll number separated by comma:1,4,6\n",
      "Enter 3 names separated by comma:Mehak,Zaya,Sai\n",
      "ascending: {'1': 'Mehak', '4': 'Zaya', '6': 'Sai'}\n",
      "descending: {'6': 'Sai', '4': 'Zaya', '1': 'Mehak'}\n"
     ]
    }
   ],
   "source": [
    "#sort a dictionary in ascending and descending order\n",
    "roll=input(\"Enter 3 roll number separated by comma:\").split(\",\")\n",
    "name=input(\"Enter 3 names separated by comma:\").split(\",\")\n",
    "d={roll[0]:name[0],roll[1]:name[1],roll[2]:name[2]}\n",
    "print(\"ascending:\",d)\n",
    "s=dict(sorted(d.items(),reverse=True))\n",
    "print(\"descending:\",s)\n"
   ]
  },
  {
   "cell_type": "code",
   "execution_count": 18,
   "metadata": {},
   "outputs": [
    {
     "name": "stdout",
     "output_type": "stream",
     "text": [
      "Enter 3 student names separated by comma:neha,meha,reha\n",
      "dic1: {1: 'neha', 2: 'meha', 3: 'reha'}\n",
      "Enter 3 student names separated by comma:liya,siya,miya\n",
      "dic2: {4: 'liya', 5: 'siya', 6: 'miya'}\n",
      "Merged: {1: 'neha', 2: 'meha', 3: 'reha', 4: 'liya', 5: 'siya', 6: 'miya'}\n"
     ]
    }
   ],
   "source": [
    "#merge 2 dictionaries\n",
    "p=input(\"Enter 3 student names separated by comma:\").split(\",\")\n",
    "pd={1:p[0],2:p[1],3:p[2]}\n",
    "print(\"dic1:\",pd)\n",
    "q=input(\"Enter 3 student names separated by comma:\").split(\",\")\n",
    "qd={4:q[0],5:q[1],6:q[2]}\n",
    "print(\"dic2:\",qd)\n",
    "pd.update(qd)\n",
    "print(\"Merged:\",pd)"
   ]
  },
  {
   "cell_type": "code",
   "execution_count": 18,
   "metadata": {},
   "outputs": [
    {
     "name": "stdout",
     "output_type": "stream",
     "text": [
      "Even numbers from 1 to 25: [2, 4, 6, 8, 10, 12, 14, 16, 18, 20, 22, 24]\n",
      "Sum of even numbers: 156\n"
     ]
    }
   ],
   "source": [
    "#print even no.s & calculate their sum\n",
    "e_num = list(range(2,26,2))\n",
    "\n",
    "print(\"Even numbers from 1 to 25:\", e_num)\n",
    "\n",
    "total_sum = sum(e_num)\n",
    "\n",
    "print(\"Sum of even numbers:\", total_sum)\n"
   ]
  },
  {
   "cell_type": "code",
   "execution_count": null,
   "metadata": {},
   "outputs": [],
   "source": []
  }
 ],
 "metadata": {
  "kernelspec": {
   "display_name": "Python 3",
   "language": "python",
   "name": "python3"
  },
  "language_info": {
   "codemirror_mode": {
    "name": "ipython",
    "version": 3
   },
   "file_extension": ".py",
   "mimetype": "text/x-python",
   "name": "python",
   "nbconvert_exporter": "python",
   "pygments_lexer": "ipython3",
   "version": "3.7.3"
  }
 },
 "nbformat": 4,
 "nbformat_minor": 2
}
