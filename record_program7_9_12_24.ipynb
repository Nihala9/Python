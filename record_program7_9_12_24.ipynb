
{
 "cells": [
  {
   "cell_type": "code",
   "execution_count": 1,
   "metadata": {},
   "outputs": [
    {
     "name": "stdout",
     "output_type": "stream",
     "text": [
      "1.Rectangle\n",
      "2.Circle\n",
      "3.Exit\n",
      "Enter your choice: 1\n",
      "Enter length: 3\n",
      "Enter breadth: 4\n",
      "Area of rectangle: 12\n",
      "Perimeter of rectangle: 14\n",
      "1.Rectangle\n",
      "2.Circle\n",
      "3.Exit\n",
      "Enter your choice: 2\n",
      "Enter radius: 2\n",
      "Area of circle: 12.56\n",
      "Perimeter of circle: 12.56\n",
      "1.Rectangle\n",
      "2.Circle\n",
      "3.Exit\n",
      "Enter your choice: 3\n",
      "Exiting...\n"
     ]
    }
   ],
   "source": [
    "from package import rect, circ\n",
    "\n",
    "while True:\n",
    "    print(\"1.Rectangle\\n2.Circle\\n3.Exit\")\n",
    "    ch = int(input(\"Enter your choice: \"))\n",
    "    \n",
    "    if ch == 1:\n",
    "        l = int(input(\"Enter length: \"))  \n",
    "        b = int(input(\"Enter breadth: \"))\n",
    "        rect.rectarea(l, b)\n",
    "        rect.rectperi(l, b)\n",
    "    \n",
    "    elif ch == 2:\n",
    "        r = int(input(\"Enter radius: \"))\n",
    "        circ.circarea(r)\n",
    "        circ.circperi(r)\n",
    "    \n",
    "    else:\n",
    "        print(\"Exiting...\")\n",
    "        break\n"
   ]
  },
  {
   "cell_type": "code",
   "execution_count": 2,
   "metadata": {},
   "outputs": [
    {
     "name": "stdout",
     "output_type": "stream",
     "text": [
      "1.Rectangle\n",
      "2.Circle\n",
      "3.Cuboid\n",
      "4.Sphere\n",
      "5.Exit\n",
      "Enter your choice: 1\n",
      "Enter length: 3\n",
      "Enter breadth: 5\n",
      "Area of rectangle: 15\n",
      "Perimeter of rectangle: 16\n",
      "1.Rectangle\n",
      "2.Circle\n",
      "3.Cuboid\n",
      "4.Sphere\n",
      "5.Exit\n",
      "Enter your choice: 2\n",
      "Enter radius: 3\n",
      "Area of circle: 28.259999999999998\n",
      "Perimeter of circle: 18.84\n",
      "1.Rectangle\n",
      "2.Circle\n",
      "3.Cuboid\n",
      "4.Sphere\n",
      "5.Exit\n",
      "Enter your choice: 3\n",
      "Enter length: 4\n",
      "Enter breadth: 5\n",
      "Enter height: 6\n",
      "Surface area of cuboid: 148\n",
      "Total edge length of cuboid: 60\n",
      "1.Rectangle\n",
      "2.Circle\n",
      "3.Cuboid\n",
      "4.Sphere\n",
      "5.Exit\n",
      "Enter your choice: 4\n",
      "Enter radius: 4\n",
      "Surface area of sphere: 200.96\n",
      "Circumference of sphere: 25.12\n",
      "1.Rectangle\n",
      "2.Circle\n",
      "3.Cuboid\n",
      "4.Sphere\n",
      "5.Exit\n",
      "Enter your choice: 5\n",
      "Exiting...\n"
     ]
    }
   ],
   "source": [
    "from graphic import rect, circ\n",
    "from graphic.graphics3d import cuboid, sphere\n",
    "\n",
    "while True:\n",
    "    print(\"1.Rectangle\\n2.Circle\\n3.Cuboid\\n4.Sphere\\n5.Exit\")\n",
    "    ch = int(input(\"Enter your choice: \"))\n",
    "    \n",
    "    if ch == 1:\n",
    "        l = int(input(\"Enter length: \"))  \n",
    "        b = int(input(\"Enter breadth: \"))\n",
    "        rect.rectarea(l, b)\n",
    "        rect.rectperi(l, b)\n",
    "    \n",
    "    elif ch == 2:\n",
    "        r = int(input(\"Enter radius: \"))\n",
    "        circ.circarea(r)\n",
    "        circ.circperi(r)\n",
    "        \n",
    "    elif ch == 3:\n",
    "        l = int(input(\"Enter length: \"))  \n",
    "        b = int(input(\"Enter breadth: \"))\n",
    "        h = int(input(\"Enter height: \"))\n",
    "        cuboid.cuboidarea(l, b, h)\n",
    "        cuboid.cuboidperi(l, b, h)\n",
    "    \n",
    "    elif ch == 4:\n",
    "        r = int(input(\"Enter radius: \"))\n",
    "        sphere.spherearea(r)\n",
    "        sphere.sphereperi(r)\n",
    "        \n",
    "    elif ch == 5:\n",
    "        print(\"Exiting...\")\n",
    "        break\n",
    "    else:\n",
    "        print(\"Invalid choice, please try again.\")\n"
   ]
  },
  {
   "cell_type": "code",
   "execution_count": null,
   "metadata": {},
   "outputs": [],
   "source": []
  }
 ],
 "metadata": {
  "kernelspec": {
   "display_name": "Python 3",
   "language": "python",
   "name": "python3"
  },
  "language_info": {
   "codemirror_mode": {
    "name": "ipython",
    "version": 3
   },
   "file_extension": ".py",
   "mimetype": "text/x-python",
   "name": "python",
   "nbconvert_exporter": "python",
   "pygments_lexer": "ipython3",
   "version": "3.7.3"
  }
 },
 "nbformat": 4,
 "nbformat_minor": 2
}
