{
 "cells": [
  {
   "cell_type": "code",
   "execution_count": 2,
   "metadata": {},
   "outputs": [
    {
     "name": "stdout",
     "output_type": "stream",
     "text": [
      "Enter the final year:2040\n"
     ]
    },
    {
     "ename": "NameError",
     "evalue": "name 'fnlyr' is not defined",
     "output_type": "error",
     "traceback": [
      "\u001b[0;31m---------------------------------------------------------------------------\u001b[0m",
      "\u001b[0;31mNameError\u001b[0m                                 Traceback (most recent call last)",
      "\u001b[0;32m<ipython-input-2-dc9bdbf25369>\u001b[0m in \u001b[0;36m<module>\u001b[0;34m\u001b[0m\n\u001b[1;32m     11\u001b[0m \u001b[0mfnl_yr\u001b[0m \u001b[0;34m=\u001b[0m \u001b[0mint\u001b[0m\u001b[0;34m(\u001b[0m\u001b[0minput\u001b[0m\u001b[0;34m(\u001b[0m\u001b[0;34m\"Enter the final year:\"\u001b[0m\u001b[0;34m)\u001b[0m\u001b[0;34m)\u001b[0m\u001b[0;34m\u001b[0m\u001b[0;34m\u001b[0m\u001b[0m\n\u001b[1;32m     12\u001b[0m \u001b[0;34m\u001b[0m\u001b[0m\n\u001b[0;32m---> 13\u001b[0;31m \u001b[0mlp_yr\u001b[0m \u001b[0;34m=\u001b[0m \u001b[0mfuture_leapyr\u001b[0m\u001b[0;34m(\u001b[0m\u001b[0mfnlyr\u001b[0m\u001b[0;34m)\u001b[0m\u001b[0;34m\u001b[0m\u001b[0;34m\u001b[0m\u001b[0m\n\u001b[0m\u001b[1;32m     14\u001b[0m \u001b[0;34m\u001b[0m\u001b[0m\n\u001b[1;32m     15\u001b[0m \u001b[0mprint\u001b[0m\u001b[0;34m(\u001b[0m\u001b[0;34m\"Future leap years:\"\u001b[0m\u001b[0;34m)\u001b[0m\u001b[0;34m\u001b[0m\u001b[0;34m\u001b[0m\u001b[0m\n",
      "\u001b[0;31mNameError\u001b[0m: name 'fnlyr' is not defined"
     ]
    }
   ],
   "source": [
    "#Display future leap years\n",
    "from datetime import datetime\n",
    "\n",
    "def leap_year(yr):\n",
    "    return(year % 4 == 0 and year % 100 != 0) or (year % 400 == 0)\n",
    "    \n",
    "def future_leapyr(fnlyr):\n",
    "    crnt_yr = datetime.now().yr\n",
    "    lp_yr = [yr for year in range(crnt_yr, fnl_yr + 1) if leap_year(yr)]\n",
    "    return lp_yr\n",
    "fnl_yr = int(input(\"Enter the final year:\"))\n",
    "\n",
    "lp_yr = future_leapyr(fnlyr)\n",
    "\n",
    "print(\"Future leap years:\")\n",
    "print(lp_yr)\n"
   ]
  },
  {
   "cell_type": "code",
   "execution_count": 3,
   "metadata": {},
   "outputs": [
    {
     "name": "stdout",
     "output_type": "stream",
     "text": [
      "Enter a number:5\n",
      "The factorial of 5 is 120\n"
     ]
    }
   ],
   "source": [
    "# Program to find the factorial of a number.\n",
    "def factorial(n):\n",
    "     if n == 0:\n",
    "            return 1\n",
    "     else:\n",
    "            return n * factorial(n-1)\n",
    "num=int(input(\"enrter a number:\"))\n",
    "print(\"The factorial of\",num, \"is\",factorial(num))\n"
   ]
  },
  {
   "cell_type": "code",
   "execution_count": 4,
   "metadata": {},
   "outputs": [
    {
     "name": "stdout",
     "output_type": "stream",
     "text": [
      "Enter the number of terms:7\n",
      "Fibonacci series:0 1 1 2 3 5 8 "
     ]
    }
   ],
   "source": [
    "#Fibonacci series of N terms \n",
    "def fibonacci(n):\n",
    "    fibo=[]\n",
    "    a,b=0,1\n",
    "    for i in range(n):\n",
    "        fibo.append(a)\n",
    "        a,b=b,a+b\n",
    "    return fibo\n",
    "num=int(input(\"Enter the number of terms:\"))\n",
    "if num<=0:\n",
    "    print(\"Enter a positive number\")\n",
    "else:\n",
    "    print(\"The fibonacci series is :\",fibonacci(num))\n"
   ]
  },
  {
   "cell_type": "code",
   "execution_count": 1,
   "metadata": {},
   "outputs": [
    {
     "name": "stdout",
     "output_type": "stream",
     "text": [
      "Enter a list of words: apple bannana cherry strawberry\n",
      "The longest word is 'strawberry' with length 10\n"
     ]
    }
   ],
   "source": [
    "#return length of longest word\n",
    "def wordlength(words):\n",
    "    longest = max(words, key=len)  \n",
    "    return longest, len(longest)  \n",
    "words = input(\"Enter a list of words: \").split()  \n",
    "word, length = wordlength(words)  \n",
    "\n",
    "print(f\"The longest word is '{word}' with length {length}\")\n"
   ]
  },
  {
   "cell_type": "code",
   "execution_count": 9,
   "metadata": {},
   "outputs": [
    {
     "name": "stdout",
     "output_type": "stream",
     "text": [
      "Enter no. of rows in pattern:3\n",
      "*\n",
      "* *\n",
      "* * *\n",
      "* *\n",
      "*\n"
     ]
    }
   ],
   "source": [
    "#print a pattern\n",
    "def pattern(n):\n",
    "    for i in range(1, n + 1):\n",
    "        print(\" \".join([\"*\"]*i))\n",
    "        \n",
    "    for i in range(n-1,0,-1):\n",
    "        print(\" \".join([\"*\"] * i))\n",
    "        \n",
    "n=int(input(\"Enter no. of rows in pattern:\"))\n",
    "pattern(n)"
   ]
  },
  {
   "cell_type": "code",
   "execution_count": 10,
   "metadata": {},
   "outputs": [
    {
     "name": "stdout",
     "output_type": "stream",
     "text": [
      "Enter a number:12\n",
      "Factors are: [1, 2, 3, 4, 6, 12]\n"
     ]
    }
   ],
   "source": [
    "#factor of number\n",
    "def factors(n):\n",
    "    factor=[]\n",
    "    for i in range(1,n+1):\n",
    "        if n%i==0:\n",
    "            factor.append(i)\n",
    "    return factor\n",
    "\n",
    "num=int(input(\"Enter a number:\"))\n",
    "\n",
    "print(\"Factors are:\",factors(num))\n"
   ]
  },
  {
   "cell_type": "code",
   "execution_count": 11,
   "metadata": {},
   "outputs": [
    {
     "name": "stdout",
     "output_type": "stream",
     "text": [
      "Enter the number of steps: 5\n",
      "    1     \n",
      "   2 4    \n",
      "  3 6 9   \n",
      "4 8 12 16 \n",
      "5 10 15 20 25\n"
     ]
    }
   ],
   "source": [
    "#display pyramid\n",
    "def pyramid(n):\n",
    "    for i in range(1, n + 1):\n",
    "        row = [i * j for j in range(1, i + 1)]\n",
    "\n",
    "        row_str = \" \".join(map(str, row))\n",
    "\n",
    "        print(row_str.center(n * 2))\n",
    "\n",
    "a = int(input(\"Enter the number of steps: \"))\n",
    "pyramid(a)\n"
   ]
  },
  {
   "cell_type": "code",
   "execution_count": 12,
   "metadata": {},
   "outputs": [
    {
     "name": "stdout",
     "output_type": "stream",
     "text": [
      "Enter the side length of the square: 4\n",
      "Enter the length of the rectangle: 5\n",
      "Enter the breadth of the rectangle: 3\n",
      "Enter the base of the triangle: 6\n",
      "Enter the height of the triangle: 4\n",
      "Area of square: 16.0\n",
      "Area of rectangle: 15.0\n",
      "Area of triangle: 12.0\n"
     ]
    }
   ],
   "source": [
    "#lambda function\n",
    "area_square = lambda side: side ** 2\n",
    "area_rectangle = lambda length, breadth: length * breadth\n",
    "area_triangle = lambda base, height: 0.5 * base * height\n",
    "\n",
    "side = float(input(\"Enter the side length of the square: \"))\n",
    "length = float(input(\"Enter the length of the rectangle: \"))\n",
    "breadth = float(input(\"Enter the breadth of the rectangle: \"))\n",
    "base = float(input(\"Enter the base of the triangle: \"))\n",
    "height = float(input(\"Enter the height of the triangle: \"))\n",
    "\n",
    "print(\"Area of square:\", area_square(side))\n",
    "print(\"Area of rectangle:\", area_rectangle(length, breadth))\n",
    "print(\"Area of triangle:\", area_triangle(base, height))\n"
   ]
  },
  {
   "cell_type": "code",
   "execution_count": null,
   "metadata": {},
   "outputs": [],
   "source": []
  }
 ],
 "metadata": {
  "kernelspec": {
   "display_name": "Python 3",
   "language": "python",
   "name": "python3"
  },
  "language_info": {
   "codemirror_mode": {
    "name": "ipython",
    "version": 3
   },
   "file_extension": ".py",
   "mimetype": "text/x-python",
   "name": "python",
   "nbconvert_exporter": "python",
   "pygments_lexer": "ipython3",
   "version": "3.7.3"
  }
 },
 "nbformat": 4,
 "nbformat_minor": 2
}
